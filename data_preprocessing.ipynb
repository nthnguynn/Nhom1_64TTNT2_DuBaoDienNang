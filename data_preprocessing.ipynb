{
 "cells": [
  {
   "cell_type": "code",
   "execution_count": 2,
   "id": "8d62b9bb",
   "metadata": {},
   "outputs": [],
   "source": [
    "import pandas as pd\n",
    "import os\n",
    "import glob\n",
    "import pandas as pd"
   ]
  },
  {
   "cell_type": "markdown",
   "id": "5c04ba82",
   "metadata": {},
   "source": [
    "# 1. Đọc dữ liệu"
   ]
  },
  {
   "cell_type": "code",
   "execution_count": 3,
   "id": "edf064ae",
   "metadata": {},
   "outputs": [
    {
     "name": "stdout",
     "output_type": "stream",
     "text": [
      "Đã đọc: Dataset2.csv (shape: (2995931, 8))\n",
      "Đã đọc: Dataset3.csv (shape: (2995931, 8))\n",
      "Đã đọc: Dataset4.csv (shape: (2995931, 8))\n",
      "Đã đọc: Dataset5.csv (shape: (2995931, 8))\n",
      "Đã đọc: Dataset6.csv (shape: (2995931, 8))\n",
      "Đã đọc: Dataset7.csv (shape: (2995931, 8))\n",
      "Đã đọc: Dataset8.csv (shape: (2995931, 8))\n",
      "Đã đọc: Dataset9.csv (shape: (2995931, 8))\n",
      "Đã đọc: Dataset10.csv (shape: (2995931, 8))\n",
      "Đã đọc: Dataset11.csv (shape: (2995931, 8))\n",
      "Đã đọc: Dataset12.csv (shape: (2995931, 8))\n",
      "Đã đọc: Dataset13.csv (shape: (2995931, 8))\n",
      "Đã đọc: Dataset14.csv (shape: (2995931, 8))\n",
      "Đã đọc: Dataset15.csv (shape: (2995931, 8))\n",
      "Đã đọc: Dataset16.csv (shape: (2995931, 8))\n",
      "Đã đọc: Dataset17.csv (shape: (2995931, 8))\n",
      "Đã đọc: Dataset18.csv (shape: (2995931, 8))\n",
      "Đã đọc: Dataset19.csv (shape: (2995931, 8))\n",
      "Đã đọc: Dataset20.csv (shape: (2995931, 8))\n",
      "Đã đọc: Dataset21.csv (shape: (2995931, 8))\n",
      "Đã đọc: Dataset22.csv (shape: (2995931, 8))\n",
      "Đã đọc: Dataset23.csv (shape: (2995931, 8))\n",
      "Đã đọc: Dataset24.csv (shape: (2995931, 8))\n",
      "Đã đọc: Dataset25.csv (shape: (2995931, 8))\n",
      "Đã đọc: Dataset26.csv (shape: (2995931, 8))\n",
      "Đã đọc: Dataset27.csv (shape: (2995931, 8))\n",
      "Đã đọc: Dataset28.csv (shape: (2995931, 8))\n",
      "Đã đọc: Dataset29.csv (shape: (2995931, 8))\n",
      "Đã đọc: Dataset30.csv (shape: (2995931, 8))\n",
      "Đã đọc: Dataset31.csv (shape: (2995931, 8))\n",
      "Đã đọc: Dataset32.csv (shape: (2995931, 8))\n",
      "Đã đọc: Dataset33.csv (shape: (2995931, 8))\n",
      "Đã đọc: Dataset34.csv (shape: (2995931, 8))\n",
      "Đã đọc: Dataset35.csv (shape: (2995931, 8))\n",
      "Đã đọc: Dataset36.csv (shape: (2995931, 8))\n",
      "Đã đọc: Dataset37.csv (shape: (2995931, 8))\n",
      "Đã đọc: Dataset38.csv (shape: (2995931, 8))\n",
      "Đã đọc: Dataset39.csv (shape: (2995931, 8))\n",
      "Đã đọc: Dataset40.csv (shape: (2995931, 8))\n",
      "Đã đọc: Dataset41.csv (shape: (2995931, 8))\n",
      "Đã đọc: Dataset42.csv (shape: (2995931, 8))\n",
      "Đã đọc: Dataset43.csv (shape: (2995931, 8))\n",
      "Đã đọc: Dataset44.csv (shape: (2995931, 8))\n",
      "Đã đọc: Dataset45.csv (shape: (2995931, 8))\n",
      "Đã đọc: Dataset46.csv (shape: (2995931, 8))\n",
      "Lỗi đọc data.csv: No columns to parse from file\n"
     ]
    }
   ],
   "source": [
    "# 1. Đường dẫn đến thư mục chứa các file CSV\n",
    "folder_path = r\"G:\\My Drive\\Data_Time\"  # sửa lại thành đường dẫn của bạn\n",
    "\n",
    "# 2. Tìm tất cả file CSV trong thư mục\n",
    "csv_files = glob.glob(os.path.join(folder_path, '*.csv'))\n",
    "\n",
    "# 3. Khởi tạo danh sách để chứa DataFrame từ mỗi file\n",
    "df_list = []\n",
    "\n",
    "# 4. Lặp qua từng file, đọc và thêm vào danh sách\n",
    "for file_path in csv_files:\n",
    "    try:\n",
    "        df = pd.read_csv(file_path)\n",
    "        # --- nếu cần parse datetime hoặc thêm cột riêng, làm ở đây ---\n",
    "        # ví dụ: nếu có cột 'timestamp' cần chuyển kiểu datetime:\n",
    "        # df['timestamp'] = pd.to_datetime(df['timestamp'], format='%d/%m/%Y %H:%M:%S')\n",
    "        \n",
    "        df_list.append(df)\n",
    "        print(f\"Đã đọc: {os.path.basename(file_path)} (shape: {df.shape})\")\n",
    "    except Exception as e:\n",
    "        print(f\"Lỗi đọc {os.path.basename(file_path)}: {e}\")"
   ]
  },
  {
   "cell_type": "markdown",
   "id": "6dbb976b",
   "metadata": {},
   "source": [
    "# Xử lý datetime"
   ]
  },
  {
   "cell_type": "code",
   "execution_count": null,
   "id": "60738d3c",
   "metadata": {},
   "outputs": [
    {
     "name": "stdout",
     "output_type": "stream",
     "text": [
      "✔ Đã xử lý Dataset2.csv — tách 4 cột day/month/year/time\n",
      "✔ Đã xử lý Dataset3.csv — tách 4 cột day/month/year/time\n",
      "✔ Đã xử lý Dataset4.csv — tách 4 cột day/month/year/time\n",
      "✔ Đã xử lý Dataset5.csv — tách 4 cột day/month/year/time\n",
      "✔ Đã xử lý Dataset6.csv — tách 4 cột day/month/year/time\n",
      "✔ Đã xử lý Dataset7.csv — tách 4 cột day/month/year/time\n",
      "✔ Đã xử lý Dataset8.csv — tách 4 cột day/month/year/time\n",
      "✔ Đã xử lý Dataset9.csv — tách 4 cột day/month/year/time\n",
      "✔ Đã xử lý Dataset10.csv — tách 4 cột day/month/year/time\n",
      "✔ Đã xử lý Dataset11.csv — tách 4 cột day/month/year/time\n",
      "✔ Đã xử lý Dataset12.csv — tách 4 cột day/month/year/time\n",
      "✔ Đã xử lý Dataset13.csv — tách 4 cột day/month/year/time\n",
      "✔ Đã xử lý Dataset14.csv — tách 4 cột day/month/year/time\n",
      "✔ Đã xử lý Dataset15.csv — tách 4 cột day/month/year/time\n",
      "✔ Đã xử lý Dataset16.csv — tách 4 cột day/month/year/time\n",
      "✔ Đã xử lý Dataset17.csv — tách 4 cột day/month/year/time\n",
      "✔ Đã xử lý Dataset18.csv — tách 4 cột day/month/year/time\n",
      "✔ Đã xử lý Dataset19.csv — tách 4 cột day/month/year/time\n",
      "✔ Đã xử lý Dataset20.csv — tách 4 cột day/month/year/time\n",
      "✔ Đã xử lý Dataset21.csv — tách 4 cột day/month/year/time\n",
      "✔ Đã xử lý Dataset22.csv — tách 4 cột day/month/year/time\n",
      "✔ Đã xử lý Dataset23.csv — tách 4 cột day/month/year/time\n",
      "✔ Đã xử lý Dataset24.csv — tách 4 cột day/month/year/time\n",
      "✔ Đã xử lý Dataset25.csv — tách 4 cột day/month/year/time\n",
      "✔ Đã xử lý Dataset26.csv — tách 4 cột day/month/year/time\n",
      "✔ Đã xử lý Dataset27.csv — tách 4 cột day/month/year/time\n",
      "✔ Đã xử lý Dataset28.csv — tách 4 cột day/month/year/time\n",
      "✔ Đã xử lý Dataset29.csv — tách 4 cột day/month/year/time\n",
      "✔ Đã xử lý Dataset30.csv — tách 4 cột day/month/year/time\n",
      "✔ Đã xử lý Dataset31.csv — tách 4 cột day/month/year/time\n",
      "✔ Đã xử lý Dataset32.csv — tách 4 cột day/month/year/time\n",
      "✔ Đã xử lý Dataset33.csv — tách 4 cột day/month/year/time\n"
     ]
    }
   ],
   "source": [
    "for file_path in csv_files:\n",
    "    df = pd.read_csv(file_path)\n",
    "\n",
    "    # 1) Cột timestamp (giả sử là cột đầu tiên)\n",
    "    ts_col = df.columns[0]\n",
    "\n",
    "    # 2) Parse về datetime (dd/mm/yyyy HH:MM:SS)\n",
    "    df[ts_col] = pd.to_datetime(df[ts_col], dayfirst=True, errors=\"coerce\")\n",
    "\n",
    "    # 3) Tách riêng các thành phần\n",
    "    df[\"day\"]   = df[ts_col].dt.day\n",
    "    df[\"month\"] = df[ts_col].dt.month\n",
    "    df[\"year\"]  = df[ts_col].dt.year\n",
    "    df[\"time\"]  = df[ts_col].dt.strftime(\"%H:%M:%S\")   # chỉ HH:MM:SS\n",
    "\n",
    "    # 4) (Tuỳ chọn) bỏ cột timestamp gốc nếu không còn dùng\n",
    "    # df = df.drop(columns=[ts_col])\n",
    "\n",
    "    df_list.append(df)\n",
    "    print(f\"✔ Đã xử lý {os.path.basename(file_path)} — tách 4 cột day/month/year/time\")\n",
    "\n",
    "# Gộp nếu cần\n",
    "df_all = pd.concat(df_list, ignore_index=True)"
   ]
  },
  {
   "cell_type": "code",
   "execution_count": null,
   "id": "952bd65b",
   "metadata": {},
   "outputs": [],
   "source": [
    "print(\"\\n--- Dataset2.csv (5 dòng đầu) ---\")\n",
    "print(processed[\"Dataset2.csv\"].head())"
   ]
  }
 ],
 "metadata": {
  "kernelspec": {
   "display_name": "Python 3",
   "language": "python",
   "name": "python3"
  },
  "language_info": {
   "codemirror_mode": {
    "name": "ipython",
    "version": 3
   },
   "file_extension": ".py",
   "mimetype": "text/x-python",
   "name": "python",
   "nbconvert_exporter": "python",
   "pygments_lexer": "ipython3",
   "version": "3.11.4"
  }
 },
 "nbformat": 4,
 "nbformat_minor": 5
}
