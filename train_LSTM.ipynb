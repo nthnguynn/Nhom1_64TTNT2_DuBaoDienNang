{
 "cells": [
  {
   "cell_type": "code",
   "execution_count": null,
   "id": "e91a92e7",
   "metadata": {},
   "outputs": [],
   "source": [
    "import torch\n",
    "from torch.utils.data import DataLoader\n",
    "import pandas as pd\n",
    "from models.LSTM import LSTMModel\n",
    "from utils.dataset import TimeSeriesDataset\n",
    "from utils.train import train"
   ]
  },
  {
   "cell_type": "code",
   "execution_count": null,
   "id": "467a6191",
   "metadata": {},
   "outputs": [],
   "source": [
    "df_new = pd.read_csv(\"data/clean.csv\")\n",
    "df_new['dt'] = pd.to_datetime(df_new['dt'])\n",
    "df_new.set_index('dt', inplace=True)\n",
    "seq_length = 7  # dùng 7 bước thời gian\n",
    "batch_size = 1500\n",
    "hidden_size = 64\n",
    "num_layers = 2"
   ]
  },
  {
   "cell_type": "code",
   "execution_count": null,
   "id": "b03f5035",
   "metadata": {},
   "outputs": [],
   "source": [
    "df_new.head(10)"
   ]
  },
  {
   "cell_type": "code",
   "execution_count": null,
   "id": "1c532eb1",
   "metadata": {},
   "outputs": [],
   "source": [
    "dataset = TimeSeriesDataset(df_new, seq_length, target_col='Global_active_power')\n",
    "loader = DataLoader(dataset, batch_size=batch_size, shuffle=True)\n",
    "\n",
    "model = LSTMModel(input_size=df_new.shape[1], hidden_size=hidden_size, num_layers=num_layers)\n",
    "criterion = nn.MSELoss()\n",
    "optimizer = torch.optim.Adam(model.parameters(), lr=1e-3)\n",
    "device = torch.device('cuda' if torch.cuda.is_available() else 'cpu')\n",
    "\n",
    "train(model, loader, criterion, optimizer, epochs=20, device=device)"
   ]
  },
  {
   "cell_type": "code",
   "execution_count": null,
   "id": "2fa336f1",
   "metadata": {},
   "outputs": [],
   "source": [
    "torch.save(model.state_dict(), './weights/lstm_model.pth')\n",
    "print(\"Lưu model tại  /weights/lstm_model.pth\")"
   ]
  }
 ],
 "metadata": {
  "kernelspec": {
   "display_name": "TS_project",
   "language": "python",
   "name": "python3"
  },
  "language_info": {
   "codemirror_mode": {
    "name": "ipython",
    "version": 3
   },
   "file_extension": ".py",
   "mimetype": "text/x-python",
   "name": "python",
   "nbconvert_exporter": "python",
   "pygments_lexer": "ipython3",
   "version": "3.12.11"
  }
 },
 "nbformat": 4,
 "nbformat_minor": 5
}
