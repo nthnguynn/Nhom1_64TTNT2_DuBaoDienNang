{
 "cells": [
  {
   "cell_type": "code",
   "execution_count": null,
   "id": "de1ac308",
   "metadata": {},
   "outputs": [],
   "source": [
    "from util.train import train\n"
   ]
  },
  {
   "cell_type": "code",
   "execution_count": null,
   "id": "8c1338f3",
   "metadata": {},
   "outputs": [],
   "source": []
  },
  {
   "cell_type": "code",
   "execution_count": null,
   "id": "b4be7e7e",
   "metadata": {},
   "outputs": [],
   "source": []
  },
  {
   "cell_type": "code",
   "execution_count": null,
   "id": "50f607b3",
   "metadata": {},
   "outputs": [],
   "source": []
  },
  {
   "cell_type": "code",
   "execution_count": null,
   "id": "a648c82c",
   "metadata": {},
   "outputs": [],
   "source": []
  },
  {
   "cell_type": "code",
   "execution_count": null,
   "id": "a7b86430",
   "metadata": {},
   "outputs": [],
   "source": []
  }
 ],
 "metadata": {
  "language_info": {
   "name": "python"
  }
 },
 "nbformat": 4,
 "nbformat_minor": 5
}
